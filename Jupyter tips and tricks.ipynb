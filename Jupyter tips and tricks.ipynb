{
  "nbformat": 4,
  "nbformat_minor": 0,
  "metadata": {
    "colab": {
      "provenance": []
    },
    "kernelspec": {
      "name": "python3",
      "display_name": "Python 3"
    }
  },
  "cells": [
    {
      "cell_type": "markdown",
      "metadata": {
        "id": "lN07LU6DyuPT"
      },
      "source": [
        "#Introduction"
      ]
    },
    {
      "cell_type": "markdown",
      "metadata": {
        "id": "kASGGwp4yyhm"
      },
      "source": [
        "Jupyter is increasingly popular web-based interactive computing environment generally running python code but also capable of running Julia and R.\n",
        "\n",
        "We will be using jupyter for the ML session. In this pre-reading notebook we'll go over few tips and tricks. During the tutorial we'll connect to jupyter instance running on a remote GPU machine. Here we will use google colab version, which has almost identical interface to the vanilla jupyter. To actually run the cells you will need to sign in or [create](https://accounts.google.com/signup/v2/webcreateaccount?flowName=GlifWebSignIn&flowEntry=SignUp) a google account and save a copy in your google drive. You can also [install](https://jupyter.org/install) jupyter, download this (and other notebooks) and run it on your computer.\n",
        "\n"
      ]
    },
    {
      "cell_type": "markdown",
      "metadata": {
        "id": "AsV1Ev5VKOoR"
      },
      "source": [
        "#Code and Markdown cell editing\n",
        "Every time you hit `Shift+Enter` the cell will be run and you go on to the next cell. `Alt+Enter` will run the current cell and insert a new one right after. If the cell you ran is last in the notebook a new cell will be created. There are two types of cells `Markdown` and `Code`. Below is a code cell. Highlight it and press `Shift+Enter` to run it and see the output."
      ]
    },
    {
      "cell_type": "code",
      "metadata": {
        "id": "NC6Oyk_wR-t6",
        "outputId": "b48c8f7d-1ce4-4bef-8c76-cdb747bf6bee",
        "colab": {
          "base_uri": "https://localhost:8080/"
        }
      },
      "source": [
        "print('Hello World')"
      ],
      "execution_count": null,
      "outputs": [
        {
          "output_type": "stream",
          "name": "stdout",
          "text": [
            "Hello World\n"
          ]
        }
      ]
    },
    {
      "cell_type": "markdown",
      "metadata": {
        "id": "Z6s4Lxx7SBop"
      },
      "source": [
        "The 'kernel' remembers your variables, class definitions, funcitons etc:"
      ]
    },
    {
      "cell_type": "code",
      "metadata": {
        "id": "djcUI5thUfM6"
      },
      "source": [
        "def foo():\n",
        "  print('bar')"
      ],
      "execution_count": null,
      "outputs": []
    },
    {
      "cell_type": "code",
      "metadata": {
        "id": "8SsTbSjdUi7k",
        "outputId": "0d8e5f57-a957-4b4e-855b-a7e782edcb12",
        "colab": {
          "base_uri": "https://localhost:8080/"
        }
      },
      "source": [
        "foo()"
      ],
      "execution_count": null,
      "outputs": [
        {
          "output_type": "stream",
          "name": "stdout",
          "text": [
            "bar\n"
          ]
        }
      ]
    },
    {
      "cell_type": "markdown",
      "metadata": {
        "id": "Lia70VzWUkIj"
      },
      "source": [
        "The text cells are edited in markdown language allowing you to create rich content fairly easily including\n",
        "   - lists\n",
        "   1. numbered lists\n",
        "   1. (with automatically numbered bullets)\n",
        "####Headings\n",
        "   - __different__ _style_ text\n",
        "   - $\\LaTeX$ and more  \n",
        "   You can find a good cheat sheet [here](https://www.ibm.com/support/knowledgecenter/en/SSGNPV_1.1.3/dsx/markd-jupyter.html)\n",
        "   "
      ]
    },
    {
      "cell_type": "markdown",
      "metadata": {
        "id": "X9ZR7aOkVjdz"
      },
      "source": [
        "Notebook has plenty of keyboard shortcuts making your life easier. To display what is available press `CTRL+Shift+P`. The ones I end up using most often are:\n",
        "   - `CTRL+M M` to convert a markdown cell to code and\n",
        "   - `CTRL+M Y` to convert markdown to code\n",
        "   - `CTRL+M D` to delete the current cell\n",
        "   "
      ]
    },
    {
      "cell_type": "markdown",
      "metadata": {
        "id": "ADld9M9JZv80"
      },
      "source": [
        "#Magic Commands"
      ]
    },
    {
      "cell_type": "markdown",
      "metadata": {
        "id": "-q_A2P1A2jDG"
      },
      "source": [
        "Ipython includes a bunch of 'magic' commands that are accessible from Jupyter. These can be very effective in accelerating your work. Here is just a taste."
      ]
    },
    {
      "cell_type": "markdown",
      "metadata": {
        "id": "lBHM2J6jjkUd"
      },
      "source": [
        "We can write out a file using %%writefile magic - here we'll write out test_magic.py"
      ]
    },
    {
      "cell_type": "code",
      "metadata": {
        "id": "at-SI52TjJau",
        "outputId": "f0bde533-a114-43fd-e1aa-b7ea02ca346a",
        "colab": {
          "base_uri": "https://localhost:8080/"
        }
      },
      "source": [
        "%%writefile test_magic.py\n",
        "def test_magic():\n",
        "  print(\"yes magic worked!\")"
      ],
      "execution_count": null,
      "outputs": [
        {
          "output_type": "stream",
          "name": "stdout",
          "text": [
            "Writing test_magic.py\n"
          ]
        }
      ]
    },
    {
      "cell_type": "markdown",
      "metadata": {
        "id": "LzbzxXWxj2gq"
      },
      "source": [
        "The test_magic.py file should now exist in the working directory - but the code hasn't been run - so the `test_magic()` function will not be defined"
      ]
    },
    {
      "cell_type": "code",
      "metadata": {
        "id": "G1ZXfQpvkXAO",
        "outputId": "3ff4529a-80bc-4089-d13c-054b4e0da0bc",
        "colab": {
          "base_uri": "https://localhost:8080/",
          "height": 141
        }
      },
      "source": [
        "test_magic()"
      ],
      "execution_count": null,
      "outputs": [
        {
          "output_type": "error",
          "ename": "NameError",
          "evalue": "name 'test_magic' is not defined",
          "traceback": [
            "\u001b[0;31m---------------------------------------------------------------------------\u001b[0m",
            "\u001b[0;31mNameError\u001b[0m                                 Traceback (most recent call last)",
            "\u001b[0;32m<ipython-input-5-be96bde4f25c>\u001b[0m in \u001b[0;36m<cell line: 0>\u001b[0;34m()\u001b[0m\n\u001b[0;32m----> 1\u001b[0;31m \u001b[0mtest_magic\u001b[0m\u001b[0;34m(\u001b[0m\u001b[0;34m)\u001b[0m\u001b[0;34m\u001b[0m\u001b[0;34m\u001b[0m\u001b[0m\n\u001b[0m",
            "\u001b[0;31mNameError\u001b[0m: name 'test_magic' is not defined"
          ]
        }
      ]
    },
    {
      "cell_type": "markdown",
      "metadata": {
        "id": "j3attD-d6NlR"
      },
      "source": [
        "The `%run` command will run an external script as if the code was pasted into the notebook. Whatever variables, classes or functions are defined in the external script will be known by the kernel."
      ]
    },
    {
      "cell_type": "code",
      "metadata": {
        "id": "omMF10dYkbwn"
      },
      "source": [
        "%run test_magic.py"
      ],
      "execution_count": null,
      "outputs": []
    },
    {
      "cell_type": "code",
      "metadata": {
        "id": "Xa_MaiKp8HPZ",
        "outputId": "348ac3a1-5990-49e7-fe48-09ab7e9ab68f",
        "colab": {
          "base_uri": "https://localhost:8080/"
        }
      },
      "source": [
        "test_magic()"
      ],
      "execution_count": null,
      "outputs": [
        {
          "output_type": "stream",
          "name": "stdout",
          "text": [
            "yes magic worked!\n"
          ]
        }
      ]
    },
    {
      "cell_type": "markdown",
      "metadata": {
        "id": "M4oYhkl1CTvI"
      },
      "source": [
        "`%env` magic command lets you list and set environment variables"
      ]
    },
    {
      "cell_type": "markdown",
      "metadata": {
        "id": "lWGJKqWjJMVZ"
      },
      "source": [
        "This will list all defined variables:"
      ]
    },
    {
      "cell_type": "code",
      "metadata": {
        "id": "79RYP7RhJJnv",
        "outputId": "5c77e9a6-f2fd-42ea-a83c-ef4fcbbd9ce7",
        "colab": {
          "base_uri": "https://localhost:8080/"
        }
      },
      "source": [
        "%env"
      ],
      "execution_count": null,
      "outputs": [
        {
          "output_type": "execute_result",
          "data": {
            "text/plain": [
              "{'SHELL': '/bin/bash',\n",
              " 'NV_LIBCUBLAS_VERSION': '12.5.3.2-1',\n",
              " 'NVIDIA_VISIBLE_DEVICES': 'all',\n",
              " 'COLAB_JUPYTER_TRANSPORT': 'ipc',\n",
              " 'NV_NVML_DEV_VERSION': '12.5.82-1',\n",
              " 'NV_CUDNN_PACKAGE_NAME': 'libcudnn9-cuda-12',\n",
              " 'CGROUP_MEMORY_EVENTS': '/sys/fs/cgroup/memory.events /var/colab/cgroup/jupyter-children/memory.events',\n",
              " 'NV_LIBNCCL_DEV_PACKAGE': 'libnccl-dev=2.22.3-1+cuda12.5',\n",
              " 'NV_LIBNCCL_DEV_PACKAGE_VERSION': '2.22.3-1',\n",
              " 'VM_GCE_METADATA_HOST': '169.254.169.253',\n",
              " 'HOSTNAME': 'b89fdfeba372',\n",
              " 'LANGUAGE': 'en_US',\n",
              " 'TBE_RUNTIME_ADDR': '172.28.0.1:8011',\n",
              " 'COLAB_TPU_1VM': '',\n",
              " 'GCE_METADATA_TIMEOUT': '3',\n",
              " 'NVIDIA_REQUIRE_CUDA': 'cuda>=12.5 brand=unknown,driver>=470,driver<471 brand=grid,driver>=470,driver<471 brand=tesla,driver>=470,driver<471 brand=nvidia,driver>=470,driver<471 brand=quadro,driver>=470,driver<471 brand=quadrortx,driver>=470,driver<471 brand=nvidiartx,driver>=470,driver<471 brand=vapps,driver>=470,driver<471 brand=vpc,driver>=470,driver<471 brand=vcs,driver>=470,driver<471 brand=vws,driver>=470,driver<471 brand=cloudgaming,driver>=470,driver<471 brand=unknown,driver>=535,driver<536 brand=grid,driver>=535,driver<536 brand=tesla,driver>=535,driver<536 brand=nvidia,driver>=535,driver<536 brand=quadro,driver>=535,driver<536 brand=quadrortx,driver>=535,driver<536 brand=nvidiartx,driver>=535,driver<536 brand=vapps,driver>=535,driver<536 brand=vpc,driver>=535,driver<536 brand=vcs,driver>=535,driver<536 brand=vws,driver>=535,driver<536 brand=cloudgaming,driver>=535,driver<536 brand=unknown,driver>=550,driver<551 brand=grid,driver>=550,driver<551 brand=tesla,driver>=550,driver<551 brand=nvidia,driver>=550,driver<551 brand=quadro,driver>=550,driver<551 brand=quadrortx,driver>=550,driver<551 brand=nvidiartx,driver>=550,driver<551 brand=vapps,driver>=550,driver<551 brand=vpc,driver>=550,driver<551 brand=vcs,driver>=550,driver<551 brand=vws,driver>=550,driver<551 brand=cloudgaming,driver>=550,driver<551',\n",
              " 'NV_LIBCUBLAS_DEV_PACKAGE': 'libcublas-dev-12-5=12.5.3.2-1',\n",
              " 'NV_NVTX_VERSION': '12.5.82-1',\n",
              " 'COLAB_JUPYTER_IP': '172.28.0.12',\n",
              " 'NV_CUDA_CUDART_DEV_VERSION': '12.5.82-1',\n",
              " 'NV_LIBCUSPARSE_VERSION': '12.5.1.3-1',\n",
              " 'COLAB_LANGUAGE_SERVER_PROXY_ROOT_URL': 'http://172.28.0.1:8013/',\n",
              " 'NV_LIBNPP_VERSION': '12.3.0.159-1',\n",
              " 'NCCL_VERSION': '2.22.3-1',\n",
              " 'KMP_LISTEN_PORT': '6000',\n",
              " 'TF_FORCE_GPU_ALLOW_GROWTH': 'true',\n",
              " 'ENV': '/root/.bashrc',\n",
              " 'PWD': '/',\n",
              " 'COLAB_LANGUAGE_SERVER_PROXY_REQUEST_TIMEOUT': '30s',\n",
              " 'TBE_EPHEM_CREDS_ADDR': '172.28.0.1:8009',\n",
              " 'TBE_CREDS_ADDR': '172.28.0.1:8008',\n",
              " 'NV_CUDNN_PACKAGE': 'libcudnn9-cuda-12=9.2.1.18-1',\n",
              " 'NVIDIA_DRIVER_CAPABILITIES': 'compute,utility',\n",
              " 'COLAB_JUPYTER_TOKEN': '<hidden>',\n",
              " 'LAST_FORCED_REBUILD': '20250509',\n",
              " 'NV_NVPROF_DEV_PACKAGE': 'cuda-nvprof-12-5=12.5.82-1',\n",
              " 'NV_LIBNPP_PACKAGE': 'libnpp-12-5=12.3.0.159-1',\n",
              " 'NV_LIBNCCL_DEV_PACKAGE_NAME': 'libnccl-dev',\n",
              " 'TCLLIBPATH': '/usr/share/tcltk/tcllib1.20',\n",
              " 'NV_LIBCUBLAS_DEV_VERSION': '12.5.3.2-1',\n",
              " 'NVIDIA_PRODUCT_NAME': 'CUDA',\n",
              " 'COLAB_KERNEL_MANAGER_PROXY_HOST': '172.28.0.12',\n",
              " 'UV_BUILD_CONSTRAINT': '',\n",
              " 'NV_LIBCUBLAS_DEV_PACKAGE_NAME': 'libcublas-dev-12-5',\n",
              " 'NV_CUDA_CUDART_VERSION': '12.5.82-1',\n",
              " 'COLAB_WARMUP_DEFAULTS': '1',\n",
              " 'HOME': '/root',\n",
              " 'LANG': 'en_US.UTF-8',\n",
              " 'CUDA_VERSION': '12.5.1',\n",
              " 'CLOUDSDK_CONFIG': '/content/.config',\n",
              " 'NV_LIBCUBLAS_PACKAGE': 'libcublas-12-5=12.5.3.2-1',\n",
              " 'NV_CUDA_NSIGHT_COMPUTE_DEV_PACKAGE': 'cuda-nsight-compute-12-5=12.5.1-1',\n",
              " 'UV_SYSTEM_PYTHON': 'true',\n",
              " 'COLAB_RELEASE_TAG': 'release-colab_20250514-060044_RC00',\n",
              " 'KMP_TARGET_PORT': '9000',\n",
              " 'KMP_EXTRA_ARGS': '--logtostderr --listen_host=172.28.0.12 --target_host=172.28.0.12 --tunnel_background_save_url=https://colab.research.google.com/tun/m/cc48301118ce562b961b3c22d803539adc1e0c19/m-s-1qofnnza4qq7i --tunnel_background_save_delay=10s --tunnel_periodic_background_save_frequency=30m0s --enable_output_coalescing=true --output_coalescing_required=true ',\n",
              " 'UV_INSTALL_DIR': '/usr/local/bin',\n",
              " 'NV_LIBNPP_DEV_PACKAGE': 'libnpp-dev-12-5=12.3.0.159-1',\n",
              " 'COLAB_LANGUAGE_SERVER_PROXY_LSP_DIRS': '/datalab/web/pyright/typeshed-fallback/stdlib,/usr/local/lib/python3.10/dist-packages',\n",
              " 'NV_LIBCUBLAS_PACKAGE_NAME': 'libcublas-12-5',\n",
              " 'COLAB_KERNEL_MANAGER_PROXY_PORT': '6000',\n",
              " 'CLOUDSDK_PYTHON': 'python3',\n",
              " 'NV_LIBNPP_DEV_VERSION': '12.3.0.159-1',\n",
              " 'NO_GCE_CHECK': 'False',\n",
              " 'PYTHONPATH': '/env/python',\n",
              " 'NV_LIBCUSPARSE_DEV_VERSION': '12.5.1.3-1',\n",
              " 'LIBRARY_PATH': '/usr/local/cuda/lib64/stubs',\n",
              " 'NV_CUDNN_VERSION': '9.2.1.18-1',\n",
              " 'SHLVL': '0',\n",
              " 'NV_CUDA_LIB_VERSION': '12.5.1-1',\n",
              " 'COLAB_LANGUAGE_SERVER_PROXY': '/usr/colab/bin/language_service',\n",
              " 'NVARCH': 'x86_64',\n",
              " 'UV_CONSTRAINT': '',\n",
              " 'PYTHONUTF8': '1',\n",
              " 'NV_CUDNN_PACKAGE_DEV': 'libcudnn9-dev-cuda-12=9.2.1.18-1',\n",
              " 'NV_LIBNCCL_PACKAGE': 'libnccl2=2.22.3-1+cuda12.5',\n",
              " 'LD_LIBRARY_PATH': '/usr/local/nvidia/lib:/usr/local/nvidia/lib64',\n",
              " 'COLAB_GPU': '',\n",
              " 'NV_CUDA_NSIGHT_COMPUTE_VERSION': '12.5.1-1',\n",
              " 'GCS_READ_CACHE_BLOCK_SIZE_MB': '16',\n",
              " 'NV_NVPROF_VERSION': '12.5.82-1',\n",
              " 'LC_ALL': 'en_US.UTF-8',\n",
              " 'COLAB_FILE_HANDLER_ADDR': 'localhost:3453',\n",
              " 'PATH': '/opt/bin:/usr/local/nvidia/bin:/usr/local/cuda/bin:/usr/local/sbin:/usr/local/bin:/usr/sbin:/usr/bin:/sbin:/bin:/tools/node/bin:/tools/google-cloud-sdk/bin',\n",
              " 'NV_LIBNCCL_PACKAGE_NAME': 'libnccl2',\n",
              " 'COLAB_DEBUG_ADAPTER_MUX_PATH': '/usr/local/bin/dap_multiplexer',\n",
              " 'NV_LIBNCCL_PACKAGE_VERSION': '2.22.3-1',\n",
              " 'PYTHONWARNINGS': 'ignore:::pip._internal.cli.base_command',\n",
              " 'MODEL_PROXY_BASE_URL': 'https://mp.kaggle.net/models/openapi',\n",
              " 'DEBIAN_FRONTEND': 'noninteractive',\n",
              " 'COLAB_BACKEND_VERSION': 'next',\n",
              " 'OLDPWD': '/',\n",
              " '_PYVIZ_COMMS_INSTALLED': '1',\n",
              " 'PYDEVD_USE_FRAME_EVAL': 'NO',\n",
              " 'JPY_PARENT_PID': '96',\n",
              " 'TERM': 'xterm-color',\n",
              " 'CLICOLOR': '1',\n",
              " 'PAGER': 'cat',\n",
              " 'GIT_PAGER': 'cat',\n",
              " 'MPLBACKEND': 'module://matplotlib_inline.backend_inline',\n",
              " 'ENABLE_DIRECTORYPREFETCHER': '1',\n",
              " 'USE_AUTH_EPHEM': '1'}"
            ]
          },
          "metadata": {},
          "execution_count": 8
        }
      ]
    },
    {
      "cell_type": "markdown",
      "metadata": {
        "id": "dbLcZ7pHJK2n"
      },
      "source": [
        "This will set a new variable:"
      ]
    },
    {
      "cell_type": "code",
      "metadata": {
        "id": "SY00f9FBJaVj",
        "outputId": "b5e3c1e1-1488-4187-83c1-3bc39841e161",
        "colab": {
          "base_uri": "https://localhost:8080/"
        }
      },
      "source": [
        "%env THE_ANSWER=42"
      ],
      "execution_count": null,
      "outputs": [
        {
          "output_type": "stream",
          "name": "stdout",
          "text": [
            "env: THE_ANSWER=42\n"
          ]
        }
      ]
    },
    {
      "cell_type": "markdown",
      "metadata": {
        "id": "GAXp98fNgUjh"
      },
      "source": [
        "Now show the value of a this specific variable"
      ]
    },
    {
      "cell_type": "code",
      "metadata": {
        "id": "7K5JRLsaJjTL",
        "outputId": "f58d7147-e1b7-4183-e3f4-a5f4da1d43a7",
        "colab": {
          "base_uri": "https://localhost:8080/",
          "height": 35
        }
      },
      "source": [
        "%env THE_ANSWER"
      ],
      "execution_count": null,
      "outputs": [
        {
          "output_type": "execute_result",
          "data": {
            "text/plain": [
              "'42'"
            ],
            "application/vnd.google.colaboratory.intrinsic+json": {
              "type": "string"
            }
          },
          "metadata": {},
          "execution_count": 10
        }
      ]
    },
    {
      "cell_type": "markdown",
      "metadata": {
        "id": "FBiFDAbuMojE"
      },
      "source": [
        "You can use `%%bash` magic to write and run a bash script. The double percent `%%` indicates that this is a cell magic - which takes the whole cell as input. This is in contrast to the single `%` magic commands we've seen above - these take the rest of the line as input.  Note that `%%bash` starts a new shell, so if you set environment variables, they will not be visible after the cell execution is done. For instance after executing the script below the environment variable `ASH` will not be visible."
      ]
    },
    {
      "cell_type": "code",
      "metadata": {
        "id": "uls1lueRh7S5",
        "outputId": "c41a2891-ea75-4e42-e94a-3eb6d4cfbb2b",
        "colab": {
          "base_uri": "https://localhost:8080/"
        }
      },
      "source": [
        "%%bash\n",
        "for i in {1..10}\n",
        "do\n",
        "   echo $i\n",
        "done\n",
        "export ASH='120-A/2'"
      ],
      "execution_count": null,
      "outputs": [
        {
          "output_type": "stream",
          "name": "stdout",
          "text": [
            "1\n",
            "2\n",
            "3\n",
            "4\n",
            "5\n",
            "6\n",
            "7\n",
            "8\n",
            "9\n",
            "10\n"
          ]
        }
      ]
    },
    {
      "cell_type": "code",
      "metadata": {
        "id": "DlJOjluklNfI",
        "outputId": "7f168902-f77f-49cc-d35b-b1b5cbcea4c0",
        "colab": {
          "base_uri": "https://localhost:8080/"
        }
      },
      "source": [
        "%env ASH"
      ],
      "execution_count": null,
      "outputs": [
        {
          "output_type": "stream",
          "name": "stderr",
          "text": [
            "UsageError: Environment does not have key: ASH\n"
          ]
        }
      ]
    },
    {
      "cell_type": "markdown",
      "metadata": {
        "id": "9rs8LdWtlcp7"
      },
      "source": [
        "While not strictly a magic command prefixing with `!` allows you to run bash commands from within jupyter notebook and even store their output in python variables and vice-versa - we can pass python variables to the bash command"
      ]
    },
    {
      "cell_type": "code",
      "metadata": {
        "id": "25TW0ui2rxwV",
        "outputId": "cf9ad82d-08be-42fe-e55d-64611cdc2e45",
        "colab": {
          "base_uri": "https://localhost:8080/"
        }
      },
      "source": [
        "tea='Earl Grey, Hot'\n",
        "!echo $tea\n",
        "coffee=!head -n 1 /etc/os-release"
      ],
      "execution_count": null,
      "outputs": [
        {
          "output_type": "stream",
          "name": "stdout",
          "text": [
            "Earl Grey, Hot\n"
          ]
        }
      ]
    },
    {
      "cell_type": "code",
      "metadata": {
        "id": "0h__Ht-btEra",
        "outputId": "918b6153-8f9f-493c-d38a-e86c13057b74",
        "colab": {
          "base_uri": "https://localhost:8080/"
        }
      },
      "source": [
        "print(coffee)"
      ],
      "execution_count": null,
      "outputs": [
        {
          "output_type": "stream",
          "name": "stdout",
          "text": [
            "['PRETTY_NAME=\"Ubuntu 22.04.4 LTS\"']\n"
          ]
        }
      ]
    },
    {
      "cell_type": "markdown",
      "metadata": {
        "id": "xdjdCM2btl7f"
      },
      "source": [
        "Important caveat again is that the `!` will spawn a new shell. This means for instance that `!cd ...` will have no effect:"
      ]
    },
    {
      "cell_type": "code",
      "metadata": {
        "id": "wDoq212X2YS2",
        "outputId": "aebf61f5-021e-4438-bd27-827a67b064b4",
        "colab": {
          "base_uri": "https://localhost:8080/"
        }
      },
      "source": [
        "!mkdir test_dir\n",
        "!cd test_dir\n",
        "!pwd"
      ],
      "execution_count": null,
      "outputs": [
        {
          "output_type": "stream",
          "name": "stdout",
          "text": [
            "/content\n"
          ]
        }
      ]
    },
    {
      "cell_type": "markdown",
      "metadata": {
        "id": "i_MS7cUJ2ej5"
      },
      "source": [
        "To change the working directory we would use another magic: `%cd`"
      ]
    },
    {
      "cell_type": "code",
      "metadata": {
        "id": "fD4G9vbt2tSg",
        "outputId": "80b0dab9-1863-4b28-b0e0-ea055bd389b6",
        "colab": {
          "base_uri": "https://localhost:8080/"
        }
      },
      "source": [
        "%cd test_dir"
      ],
      "execution_count": null,
      "outputs": [
        {
          "output_type": "stream",
          "name": "stdout",
          "text": [
            "/content/test_dir\n"
          ]
        }
      ]
    },
    {
      "cell_type": "markdown",
      "metadata": {
        "id": "lEE85oQjB7oK"
      },
      "source": [
        "Now we'll look at some neat timing commands - they can be used both in cell or line mode.\n",
        "%time will run your code once - and give you the timing statistics while %timeit will run the code by default 10000 times to benchark the performance of a given code snippet"
      ]
    },
    {
      "cell_type": "code",
      "metadata": {
        "id": "bj8UkHhKC5j2"
      },
      "source": [
        "import numpy as np"
      ],
      "execution_count": null,
      "outputs": []
    },
    {
      "cell_type": "code",
      "metadata": {
        "id": "bU1vEtf-Ca-F",
        "outputId": "ec5cecf2-8f0c-4400-b5b5-4e0410764148",
        "colab": {
          "base_uri": "https://localhost:8080/"
        }
      },
      "source": [
        "%%timeit\n",
        "x=np.linspace(0,2.0*np.pi,1000)\n",
        "y=np.sin(x)"
      ],
      "execution_count": null,
      "outputs": [
        {
          "output_type": "stream",
          "name": "stdout",
          "text": [
            "28.3 µs ± 5.01 µs per loop (mean ± std. dev. of 7 runs, 10000 loops each)\n"
          ]
        }
      ]
    },
    {
      "cell_type": "code",
      "metadata": {
        "id": "ny0DwpdXCp9D",
        "outputId": "f80bf456-45fe-4728-e44e-8fe2ce90cbc0",
        "colab": {
          "base_uri": "https://localhost:8080/"
        }
      },
      "source": [
        "%timeit y=np.sin(np.linspace(0,2.0*np.pi,1000))"
      ],
      "execution_count": null,
      "outputs": [
        {
          "output_type": "stream",
          "name": "stdout",
          "text": [
            "26.7 µs ± 942 ns per loop (mean ± std. dev. of 7 runs, 10000 loops each)\n"
          ]
        }
      ]
    },
    {
      "cell_type": "code",
      "metadata": {
        "id": "nSi2UZhRCzh9",
        "outputId": "ab11e313-6571-4647-d222-6caf93e06094",
        "colab": {
          "base_uri": "https://localhost:8080/"
        }
      },
      "source": [
        "%%time\n",
        "x=np.linspace(0,2.0*np.pi,1000)\n",
        "y=np.sin(x)"
      ],
      "execution_count": null,
      "outputs": [
        {
          "output_type": "stream",
          "name": "stdout",
          "text": [
            "CPU times: user 835 µs, sys: 0 ns, total: 835 µs\n",
            "Wall time: 707 µs\n"
          ]
        }
      ]
    },
    {
      "cell_type": "markdown",
      "metadata": {
        "id": "dtQYkvGv2x7z"
      },
      "source": [
        "Finally, one of the most important magic commands we need to use whenever we plot anything is `%matplotlib inline`. This is usually invoked somewhere near the beginning of the notebook and allows drawing of your plots in the notebook (and storing them as well!)\n"
      ]
    },
    {
      "cell_type": "code",
      "metadata": {
        "id": "er6i-fgH43OJ"
      },
      "source": [
        "%matplotlib inline"
      ],
      "execution_count": null,
      "outputs": []
    },
    {
      "cell_type": "markdown",
      "metadata": {
        "id": "xfxdcUXL6vaK"
      },
      "source": [
        "After that we plot normally - but you need to keep all commands involved in creating a figure to a single cell and call pyplot `show()` at the end"
      ]
    },
    {
      "cell_type": "code",
      "metadata": {
        "id": "jEtn8wZE6dfm"
      },
      "source": [
        "import matplotlib.pyplot as plt"
      ],
      "execution_count": null,
      "outputs": []
    },
    {
      "cell_type": "code",
      "metadata": {
        "id": "bXjnrBTK6tEE",
        "outputId": "7350b9e8-64dd-4ba4-e4a0-34c3b6c0d772",
        "colab": {
          "base_uri": "https://localhost:8080/",
          "height": 388
        }
      },
      "source": [
        "import numpy as np\n",
        "fig, ax = plt.subplots(figsize=(6,4),facecolor='w')\n",
        "x=np.linspace(0,2.0*np.pi,1000)\n",
        "y=np.sin(x)\n",
        "ax.plot(x,y)\n",
        "ax.set_xlabel('x')\n",
        "ax.set_ylabel('y')\n",
        "plt.show()"
      ],
      "execution_count": null,
      "outputs": [
        {
          "output_type": "display_data",
          "data": {
            "text/plain": [
              "<Figure size 600x400 with 1 Axes>"
            ],
            "image/png": "[encoded data removed]"
          },
          "metadata": {}
        }
      ]
    },
    {
      "cell_type": "markdown",
      "metadata": {
        "id": "gKYYlbOoGHpC"
      },
      "source": [
        "There are multiple other magic commands. You can get a full list by typing"
      ]
    },
    {
      "cell_type": "code",
      "metadata": {
        "id": "RmzAjBnVGPfj",
        "outputId": "b1784306-fecd-45e1-df70-6e9e62e7f5ef",
        "colab": {
          "base_uri": "https://localhost:8080/",
          "height": 1000
        }
      },
      "source": [
        "%lsmagic"
      ],
      "execution_count": null,
      "outputs": [
        {
          "output_type": "execute_result",
          "data": {
            "text/plain": [
              "Available line magics:\n",
              "%alias  %alias_magic  %autoawait  %autocall  %automagic  %autosave  %bookmark  %cat  %cd  %clear  %colors  %conda  %config  %connect_info  %cp  %debug  %dhist  %dirs  %doctest_mode  %ed  %edit  %env  %gui  %hist  %history  %killbgscripts  %ldir  %less  %lf  %lk  %ll  %load  %load_ext  %loadpy  %logoff  %logon  %logstart  %logstate  %logstop  %ls  %lsmagic  %lx  %macro  %magic  %man  %matplotlib  %mkdir  %more  %mv  %notebook  %page  %pastebin  %pdb  %pdef  %pdoc  %pfile  %pinfo  %pinfo2  %pip  %popd  %pprint  %precision  %prun  %psearch  %psource  %pushd  %pwd  %pycat  %pylab  %qtconsole  %quickref  %recall  %rehashx  %reload_ext  %rep  %rerun  %reset  %reset_selective  %rm  %rmdir  %run  %save  %sc  %set_env  %shell  %store  %sx  %system  %tb  %tensorflow_version  %time  %timeit  %unalias  %unload_ext  %who  %who_ls  %whos  %xdel  %xmode\n",
              "\n",
              "Available cell magics:\n",
              "%%!  %%HTML  %%SVG  %%bash  %%bigquery  %%capture  %%debug  %%file  %%html  %%javascript  %%js  %%latex  %%markdown  %%perl  %%prun  %%pypy  %%python  %%python2  %%python3  %%ruby  %%script  %%sh  %%shell  %%spanner_graph  %%svg  %%sx  %%system  %%time  %%timeit  %%writefile\n",
              "\n",
              "Automagic is ON, % prefix IS NOT needed for line magics."
            ],
            "application/json": {
              "line": {
                "automagic": "AutoMagics",
                "autocall": "AutoMagics",
                "alias_magic": "BasicMagics",
                "lsmagic": "BasicMagics",
                "magic": "BasicMagics",
                "page": "BasicMagics",
                "pprint": "BasicMagics",
                "colors": "BasicMagics",
                "xmode": "BasicMagics",
                "quickref": "BasicMagics",
                "doctest_mode": "BasicMagics",
                "gui": "BasicMagics",
                "precision": "BasicMagics",
                "notebook": "BasicMagics",
                "save": "CodeMagics",
                "pastebin": "CodeMagics",
                "loadpy": "CodeMagics",
                "load": "CodeMagics",
                "edit": "KernelMagics",
                "config": "ConfigMagics",
                "prun": "ExecutionMagics",
                "pdb": "ExecutionMagics",
                "debug": "ExecutionMagics",
                "tb": "ExecutionMagics",
                "run": "ExecutionMagics",
                "timeit": "ExecutionMagics",
                "time": "ExecutionMagics",
                "macro": "ExecutionMagics",
                "load_ext": "ExtensionMagics",
                "unload_ext": "ExtensionMagics",
                "reload_ext": "ExtensionMagics",
                "history": "HistoryMagics",
                "recall": "HistoryMagics",
                "rerun": "HistoryMagics",
                "logstart": "LoggingMagics",
                "logstop": "LoggingMagics",
                "logoff": "LoggingMagics",
                "logon": "LoggingMagics",
                "logstate": "LoggingMagics",
                "pinfo": "NamespaceMagics",
                "pinfo2": "NamespaceMagics",
                "pdef": "NamespaceMagics",
                "pdoc": "NamespaceMagics",
                "psource": "NamespaceMagics",
                "pfile": "NamespaceMagics",
                "psearch": "NamespaceMagics",
                "who_ls": "NamespaceMagics",
                "who": "NamespaceMagics",
                "whos": "NamespaceMagics",
                "reset": "NamespaceMagics",
                "reset_selective": "NamespaceMagics",
                "xdel": "NamespaceMagics",
                "alias": "OSMagics",
                "unalias": "OSMagics",
                "rehashx": "OSMagics",
                "pwd": "OSMagics",
                "cd": "OSMagics",
                "env": "OSMagics",
                "set_env": "OSMagics",
                "pushd": "OSMagics",
                "popd": "OSMagics",
                "dirs": "OSMagics",
                "dhist": "OSMagics",
                "sc": "OSMagics",
                "sx": "OSMagics",
                "system": "OSMagics",
                "bookmark": "OSMagics",
                "pycat": "OSMagics",
                "pip": "Other",
                "conda": "PackagingMagics",
                "matplotlib": "PylabMagics",
                "pylab": "PylabMagics",
                "killbgscripts": "ScriptMagics",
                "autoawait": "AsyncMagics",
                "ed": "Other",
                "hist": "Other",
                "rep": "Other",
                "clear": "KernelMagics",
                "less": "KernelMagics",
                "more": "KernelMagics",
                "man": "KernelMagics",
                "connect_info": "KernelMagics",
                "qtconsole": "KernelMagics",
                "autosave": "KernelMagics",
                "mkdir": "Other",
                "rmdir": "Other",
                "mv": "Other",
                "rm": "Other",
                "cp": "Other",
                "cat": "Other",
                "ls": "Other",
                "ll": "Other",
                "lf": "Other",
                "lk": "Other",
                "ldir": "Other",
                "lx": "Other",
                "store": "StoreMagics",
                "shell": "Other",
                "tensorflow_version": "Other"
              },
              "cell": {
                "js": "DisplayMagics",
                "javascript": "DisplayMagics",
                "latex": "DisplayMagics",
                "svg": "DisplayMagics",
                "html": "DisplayMagics",
                "markdown": "DisplayMagics",
                "prun": "ExecutionMagics",
                "debug": "ExecutionMagics",
                "timeit": "ExecutionMagics",
                "time": "ExecutionMagics",
                "capture": "ExecutionMagics",
                "sx": "OSMagics",
                "system": "OSMagics",
                "!": "OSMagics",
                "writefile": "OSMagics",
                "script": "ScriptMagics",
                "sh": "Other",
                "bash": "Other",
                "perl": "Other",
                "ruby": "Other",
                "python": "Other",
                "python2": "Other",
                "python3": "Other",
                "pypy": "Other",
                "SVG": "Other",
                "HTML": "Other",
                "file": "Other",
                "bigquery": "Other",
                "spanner_graph": "Other",
                "shell": "Other"
              }
            }
          },
          "metadata": {},
          "execution_count": 24
        }
      ]
    },
    {
      "cell_type": "code",
      "metadata": {
        "id": "0AeWR7JyG9KR"
      },
      "source": [],
      "execution_count": null,
      "outputs": []
    }
  ]
}