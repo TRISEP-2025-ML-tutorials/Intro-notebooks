{
 "cells": [
  {
   "cell_type": "markdown",
   "metadata": {
    "id": "lN07LU6DyuPT"
   },
   "source": [
    "#Introduction"
   ]
  },
  {
   "cell_type": "markdown",
   "metadata": {
    "id": "kASGGwp4yyhm"
   },
   "source": [
    "Jupyter is increasingly popular web-based interactive computing environment generally running python code but also capable of running Julia and R.\n",
    "\n",
    "We will be using jupyter for the ML session. In this pre-reading notebook we'll go over few tips and tricks. During the tutorial we'll connect to jupyter instance running on a remote GPU machine. Here we will use google colab version, which has almost identical interface to the vanilla jupyter. To actually run the cells you will need to sign in or [create](https://accounts.google.com/signup/v2/webcreateaccount?flowName=GlifWebSignIn&flowEntry=SignUp) a google account and save a copy in your google drive. You can also [install](https://jupyter.org/install) jupyter, download this (and other notebooks) and run it on your computer.\n",
    "\n"
   ]
  },
  {
   "cell_type": "markdown",
   "metadata": {
    "id": "AsV1Ev5VKOoR"
   },
   "source": [
    "#Code and Markdown cell editing\n",
    "Every time you hit `Shift+Enter` the cell will be run and you go on to the next cell. `Alt+Enter` will run the current cell and insert a new one right after. If the cell you ran is last in the notebook a new cell will be created. There are two types of cells `Markdown` and `Code`. Below is a code cell. Highlight it and press `Shift+Enter` to run it and see the output."
   ]
  },
  {
   "cell_type": "code",
   "execution_count": 1,
   "metadata": {
    "colab": {
     "base_uri": "https://localhost:8080/"
    },
    "id": "NC6Oyk_wR-t6",
    "outputId": "b48c8f7d-1ce4-4bef-8c76-cdb747bf6bee"
   },
   "outputs": [
    {
     "name": "stdout",
     "output_type": "stream",
     "text": [
      "Hello World\n"
     ]
    }
   ],
   "source": [
    "print('Hello World')"
   ]
  },
  {
   "cell_type": "markdown",
   "metadata": {
    "id": "Z6s4Lxx7SBop"
   },
   "source": [
    "The 'kernel' remembers your variables, class definitions, funcitons etc:"
   ]
  },
  {
   "cell_type": "code",
   "execution_count": 2,
   "metadata": {
    "id": "djcUI5thUfM6"
   },
   "outputs": [],
   "source": [
    "def foo():\n",
    "  print('bar')"
   ]
  },
  {
   "cell_type": "code",
   "execution_count": 3,
   "metadata": {
    "colab": {
     "base_uri": "https://localhost:8080/"
    },
    "id": "8SsTbSjdUi7k",
    "outputId": "0d8e5f57-a957-4b4e-855b-a7e782edcb12"
   },
   "outputs": [
    {
     "name": "stdout",
     "output_type": "stream",
     "text": [
      "bar\n"
     ]
    }
   ],
   "source": [
    "foo()"
   ]
  },
  {
   "cell_type": "markdown",
   "metadata": {
    "id": "Lia70VzWUkIj"
   },
   "source": [
    "The text cells are edited in markdown language allowing you to create rich content fairly easily including\n",
    "   - lists\n",
    "   1. numbered lists\n",
    "   1. (with automatically numbered bullets)\n",
    "####Headings\n",
    "   - __different__ _style_ text\n",
    "   - $\\LaTeX$ and more  \n",
    "   You can find a good cheat sheet [here](https://www.ibm.com/support/knowledgecenter/en/SSGNPV_1.1.3/dsx/markd-jupyter.html)\n",
    "   "
   ]
  },
  {
   "cell_type": "markdown",
   "metadata": {
    "id": "X9ZR7aOkVjdz"
   },
   "source": [
    "Notebook has plenty of keyboard shortcuts making your life easier. To display what is available press `CTRL+Shift+P`. The ones I end up using most often are:\n",
    "   - `CTRL+M M` to convert a markdown cell to code and\n",
    "   - `CTRL+M Y` to convert markdown to code\n",
    "   - `CTRL+M D` to delete the current cell\n",
    "   "
   ]
  },
  {
   "cell_type": "markdown",
   "metadata": {
    "id": "ADld9M9JZv80"
   },
   "source": [
    "#Magic Commands"
   ]
  },
  {
   "cell_type": "markdown",
   "metadata": {
    "id": "-q_A2P1A2jDG"
   },
   "source": [
    "Ipython includes a bunch of 'magic' commands that are accessible from Jupyter. These can be very effective in accelerating your work. Here is just a taste."
   ]
  },
  {
   "cell_type": "markdown",
   "metadata": {
    "id": "lBHM2J6jjkUd"
   },
   "source": [
    "We can write out a file using %%writefile magic - here we'll write out test_magic.py"
   ]
  },
  {
   "cell_type": "code",
   "execution_count": 6,
   "metadata": {
    "colab": {
     "base_uri": "https://localhost:8080/"
    },
    "id": "at-SI52TjJau",
    "outputId": "f0bde533-a114-43fd-e1aa-b7ea02ca346a"
   },
   "outputs": [
    {
     "name": "stdout",
     "output_type": "stream",
     "text": [
      "Writing test_magic.py\n"
     ]
    }
   ],
   "source": [
    "%%writefile test_magic.py\n",
    "def test_magic():\n",
    "  print(\"yes magic worked!\")"
   ]
  },
  {
   "cell_type": "markdown",
   "metadata": {
    "id": "LzbzxXWxj2gq"
   },
   "source": [
    "The test_magic.py file should now exist in the working directory - but the code hasn't been run - so the `test_magic()` function will not be defined"
   ]
  },
  {
   "cell_type": "code",
   "execution_count": 7,
   "metadata": {
    "colab": {
     "base_uri": "https://localhost:8080/",
     "height": 141
    },
    "id": "G1ZXfQpvkXAO",
    "outputId": "3ff4529a-80bc-4089-d13c-054b4e0da0bc"
   },
   "outputs": [
    {
     "ename": "NameError",
     "evalue": "name 'test_magic' is not defined",
     "output_type": "error",
     "traceback": [
      "\u001b[31m---------------------------------------------------------------------------\u001b[39m",
      "\u001b[31mNameError\u001b[39m                                 Traceback (most recent call last)",
      "\u001b[36mCell\u001b[39m\u001b[36m \u001b[39m\u001b[32mIn[7]\u001b[39m\u001b[32m, line 1\u001b[39m\n\u001b[32m----> \u001b[39m\u001b[32m1\u001b[39m \u001b[43mtest_magic\u001b[49m()\n",
      "\u001b[31mNameError\u001b[39m: name 'test_magic' is not defined"
     ]
    }
   ],
   "source": [
    "test_magic()"
   ]
  },
  {
   "cell_type": "markdown",
   "metadata": {
    "id": "j3attD-d6NlR"
   },
   "source": [
    "The `%run` command will run an external script as if the code was pasted into the notebook. Whatever variables, classes or functions are defined in the external script will be known by the kernel."
   ]
  },
  {
   "cell_type": "code",
   "execution_count": 8,
   "metadata": {
    "id": "omMF10dYkbwn"
   },
   "outputs": [],
   "source": [
    "%run test_magic.py"
   ]
  },
  {
   "cell_type": "code",
   "execution_count": 9,
   "metadata": {
    "colab": {
     "base_uri": "https://localhost:8080/"
    },
    "id": "Xa_MaiKp8HPZ",
    "outputId": "348ac3a1-5990-49e7-fe48-09ab7e9ab68f"
   },
   "outputs": [
    {
     "name": "stdout",
     "output_type": "stream",
     "text": [
      "yes magic worked!\n"
     ]
    }
   ],
   "source": [
    "test_magic()"
   ]
  },
  {
   "cell_type": "markdown",
   "metadata": {
    "id": "M4oYhkl1CTvI"
   },
   "source": [
    "`%env` magic command lets you list and set environment variables"
   ]
  },
  {
   "cell_type": "markdown",
   "metadata": {
    "id": "lWGJKqWjJMVZ"
   },
   "source": [
    "This will list all defined variables:"
   ]
  },
  {
   "cell_type": "code",
   "execution_count": 10,
   "metadata": {
    "colab": {
     "base_uri": "https://localhost:8080/"
    },
    "id": "79RYP7RhJJnv",
    "outputId": "5c77e9a6-f2fd-42ea-a83c-ef4fcbbd9ce7"
   },
   "outputs": [
    {
     "data": {
      "text/plain": [
       "{'NPP_VERSION': '12.4.0.27',\n",
       " 'SHELL': '/bin/bash',\n",
       " 'NVIDIA_VISIBLE_DEVICES': 'all',\n",
       " 'DALI_URL_SUFFIX': '120',\n",
       " 'PYG_VERSION': '2.7.0',\n",
       " 'DALI_BUILD': '',\n",
       " 'CUSOLVER_VERSION': '11.7.4.40',\n",
       " 'NVJITLINK_VERSION': '12.9.41',\n",
       " 'CUBLAS_VERSION': '12.9.0.13',\n",
       " 'SINGULARITY_NAME': 'container_base_ml_recommended_trisep.sif',\n",
       " 'CUFILE_VERSION': '1.14.0.30',\n",
       " 'MASTER_PORT': '53394',\n",
       " 'CUFFT_VERSION': '11.4.0.6',\n",
       " 'NVIDIA_REQUIRE_CUDA': 'cuda>=9.0',\n",
       " 'HISTTIMEFORMAT': '%d/%m/%y %T ',\n",
       " 'TENSORBOARD_PORT': '6006',\n",
       " '_CUDA_COMPAT_STATUS': 'CUDA Driver OK',\n",
       " 'TORCH_CUDA_ARCH_LIST': '7.0 7.5 8.0 8.6 9.0 10.0 10.1 12.0+PTX',\n",
       " 'SINGULARITY_ENVIRONMENT': '/.singularity.d/env/91-environment.sh',\n",
       " 'NCCL_VERSION': '2.26.5',\n",
       " 'MODEL_OPT_VERSION': '0.27.1',\n",
       " 'CUSPARSE_VERSION': '12.5.9.5',\n",
       " 'ENV': '/etc/shinit_v2',\n",
       " 'NVSHMEM_VERSION': '3.2.5',\n",
       " 'PWD': '/home/wfedorko/Intro-notebooks',\n",
       " 'LOGNAME': 'wfedorko',\n",
       " 'XDG_SESSION_TYPE': 'tty',\n",
       " 'OPENUCX_VERSION': '1.19.0',\n",
       " 'NSIGHT_SYSTEMS_VERSION': '2025.3.1.90',\n",
       " 'NVIDIA_DRIVER_CAPABILITIES': 'compute,utility,video',\n",
       " 'TORCH_NCCL_USE_COMM_NONBLOCKING': '0',\n",
       " 'POLYGRAPHY_VERSION': '0.49.20',\n",
       " 'PIP_BREAK_SYSTEM_PACKAGES': '1',\n",
       " 'CUDA_ARCH_LIST': '7.5 8.0 8.6 9.0 10.0 12.0',\n",
       " 'UCC_CL_BASIC_TLS': '^sharp',\n",
       " 'CUSPARSELT_VERSION': '0.7.1.0',\n",
       " 'TRT_VERSION': '10.10.0.31',\n",
       " 'NVIDIA_PRODUCT_NAME': 'PyG',\n",
       " 'RDMACORE_VERSION': '50.0',\n",
       " 'FORCE_CUDA': '1',\n",
       " 'USER_PATH': '/usr/local/sbin:/usr/local/bin:/usr/sbin:/usr/bin:/sbin:/bin:/usr/games:/usr/local/games:/snap/bin:/home/wfedorko/.local/bin:/home/wfedorko/bin:/bin:/usr/bin:/sbin:/usr/sbin:/usr/local/bin:/usr/local/sbin',\n",
       " 'APPTAINER_ENVIRONMENT': '/.singularity.d/env/91-environment.sh',\n",
       " 'MOTD_SHOWN': 'pam',\n",
       " 'NVPL_LAPACK_MATH_MODE': 'PEDANTIC',\n",
       " 'APPTAINER_APPNAME': '',\n",
       " 'PERSISTENT_HISTORY_LAST': 'git pull',\n",
       " 'HOME': '/home/wfedorko',\n",
       " 'LANG': 'en_US.UTF-8',\n",
       " 'LS_COLORS': 'rs=0:di=01;34:ln=01;36:mh=00:pi=40;33:so=01;35:do=01;35:bd=40;33;01:cd=40;33;01:or=40;31;01:mi=00:su=37;41:sg=30;43:ca=00:tw=30;42:ow=34;42:st=37;44:ex=01;32:*.tar=01;31:*.tgz=01;31:*.arc=01;31:*.arj=01;31:*.taz=01;31:*.lha=01;31:*.lz4=01;31:*.lzh=01;31:*.lzma=01;31:*.tlz=01;31:*.txz=01;31:*.tzo=01;31:*.t7z=01;31:*.zip=01;31:*.z=01;31:*.dz=01;31:*.gz=01;31:*.lrz=01;31:*.lz=01;31:*.lzo=01;31:*.xz=01;31:*.zst=01;31:*.tzst=01;31:*.bz2=01;31:*.bz=01;31:*.tbz=01;31:*.tbz2=01;31:*.tz=01;31:*.deb=01;31:*.rpm=01;31:*.jar=01;31:*.war=01;31:*.ear=01;31:*.sar=01;31:*.rar=01;31:*.alz=01;31:*.ace=01;31:*.zoo=01;31:*.cpio=01;31:*.7z=01;31:*.rz=01;31:*.cab=01;31:*.wim=01;31:*.swm=01;31:*.dwm=01;31:*.esd=01;31:*.avif=01;35:*.jpg=01;35:*.jpeg=01;35:*.mjpg=01;35:*.mjpeg=01;35:*.gif=01;35:*.bmp=01;35:*.pbm=01;35:*.pgm=01;35:*.ppm=01;35:*.tga=01;35:*.xbm=01;35:*.xpm=01;35:*.tif=01;35:*.tiff=01;35:*.png=01;35:*.svg=01;35:*.svgz=01;35:*.mng=01;35:*.pcx=01;35:*.mov=01;35:*.mpg=01;35:*.mpeg=01;35:*.m2v=01;35:*.mkv=01;35:*.webm=01;35:*.webp=01;35:*.ogm=01;35:*.mp4=01;35:*.m4v=01;35:*.mp4v=01;35:*.vob=01;35:*.qt=01;35:*.nuv=01;35:*.wmv=01;35:*.asf=01;35:*.rm=01;35:*.rmvb=01;35:*.flc=01;35:*.avi=01;35:*.fli=01;35:*.flv=01;35:*.gl=01;35:*.dl=01;35:*.xcf=01;35:*.xwd=01;35:*.yuv=01;35:*.cgm=01;35:*.emf=01;35:*.ogv=01;35:*.ogx=01;35:*.aac=00;36:*.au=00;36:*.flac=00;36:*.m4a=00;36:*.mid=00;36:*.midi=00;36:*.mka=00;36:*.mp3=00;36:*.mpc=00;36:*.ogg=00;36:*.ra=00;36:*.wav=00;36:*.oga=00;36:*.opus=00;36:*.spx=00;36:*.xspf=00;36:*~=00;90:*#=00;90:*.bak=00;90:*.crdownload=00;90:*.dpkg-dist=00;90:*.dpkg-new=00;90:*.dpkg-old=00;90:*.dpkg-tmp=00;90:*.old=00;90:*.orig=00;90:*.part=00;90:*.rej=00;90:*.rpmnew=00;90:*.rpmorig=00;90:*.rpmsave=00;90:*.swp=00;90:*.tmp=00;90:*.ucf-dist=00;90:*.ucf-new=00;90:*.ucf-old=00;90:',\n",
       " 'APPTAINER_COMMAND': 'exec',\n",
       " 'COCOAPI_VERSION': '2.0+nv0.8.1',\n",
       " 'PIP_CONSTRAINT': '/etc/pip/constraint.txt',\n",
       " 'CUDA_VERSION': '12.9.0.043',\n",
       " 'SINGULARITY_CONTAINER': '/fast_scratch/triumfmlutils/containers/container_base_ml_recommended_trisep.sif',\n",
       " 'QT_API': 'pyside6',\n",
       " 'PYTORCH_VERSION': '2.8.0a0+5228986',\n",
       " 'CURAND_VERSION': '10.3.10.19',\n",
       " 'CMAKE_PREFIX_PATH': '/opt/conda/lib/python3.8/site-packages',\n",
       " 'PROMPT_COMMAND': 'run_on_prompt_command',\n",
       " 'WITH_METIS': '1',\n",
       " 'PROTOCOL_BUFFERS_PYTHON_IMPLEMENTATION': 'python',\n",
       " 'PYTORCH_BUILD_NUMBER': '0',\n",
       " 'SSH_CONNECTION': '142.90.152.115 41656 142.103.36.166 22',\n",
       " 'CUBLASMP_VERSION': '0.4.0.789',\n",
       " 'PIP_DEFAULT_TIMEOUT': '100',\n",
       " 'NVFUSER_BUILD_VERSION': '9bf5aca',\n",
       " 'HPCX_VERSION': '2.23',\n",
       " 'CUDNN_FRONTEND_VERSION': '1.11.0',\n",
       " 'LESSCLOSE': '/usr/bin/lesspipe %s %s',\n",
       " 'XDG_SESSION_CLASS': 'user',\n",
       " 'APPTAINER_CONTAINER': '/fast_scratch/triumfmlutils/containers/container_base_ml_recommended_trisep.sif',\n",
       " 'TERM': 'xterm-color',\n",
       " 'NVIDIA_PYG_VERSION': '25.05',\n",
       " 'GDRCOPY_VERSION': '2.4.4',\n",
       " 'NVFUSER_VERSION': '9bf5aca',\n",
       " 'LESSOPEN': '| /usr/bin/lesspipe %s',\n",
       " 'USER': 'wfedorko',\n",
       " 'OPENMPI_VERSION': '4.1.7',\n",
       " 'NVJPEG_VERSION': '12.4.0.16',\n",
       " 'LIBRARY_PATH': '/usr/local/cuda/lib64/stubs:',\n",
       " 'PYTHONIOENCODING': 'utf-8',\n",
       " 'AWS_OFI_NCCL_VERSION': '1.14.0',\n",
       " 'DISPLAY': 'localhost:10.0',\n",
       " 'SHLVL': '1',\n",
       " 'BASH_ENV': '/etc/bash.bashrc',\n",
       " 'CUDNN_VERSION': '9.10.1.4',\n",
       " 'APPTAINER_NAME': 'container_base_ml_recommended_trisep.sif',\n",
       " 'SINGULARITY_BIND': '/run/user/1001,/fast_scratch,/fast_scratch_1,/fast_scratch_2,/home,/data',\n",
       " 'XDG_SESSION_ID': '5466',\n",
       " 'EFA_VERSION': '1.38.1',\n",
       " 'NSIGHT_COMPUTE_VERSION': '2025.2.0.11',\n",
       " 'DALI_VERSION': '1.49.0',\n",
       " 'APPTAINER_BIND': '/run/user/1001,/fast_scratch,/fast_scratch_1,/fast_scratch_2,/home,/data',\n",
       " 'MPLBACKEND': 'qtagg',\n",
       " 'JUPYTER_PORT': '8888',\n",
       " 'PYTORCH_HOME': '/opt/pytorch/pytorch',\n",
       " 'LD_LIBRARY_PATH': '/usr/local/cuda/compat/lib.real:/usr/local/cuda/compat/lib.real:/usr/local/cuda/compat/lib.real:/usr/local/lib/python3.12/dist-packages/torch/lib:/usr/local/lib/python3.12/dist-packages/torch_tensorrt/lib:/usr/local/cuda/compat/lib:/usr/local/nvidia/lib:/usr/local/nvidia/lib64:/.singularity.d/libs',\n",
       " 'NVIDIA_BUILD_ID': '170647904',\n",
       " 'XDG_RUNTIME_DIR': '/run/user/1001',\n",
       " 'SSH_CLIENT': '142.90.152.115 41656 22',\n",
       " 'OMPI_MCA_coll_hcoll_enable': '0',\n",
       " 'OPAL_PREFIX': '/opt/hpcx/ompi',\n",
       " 'CUDA_DRIVER_VERSION': '575.51.03',\n",
       " 'LC_ALL': 'C.UTF-8',\n",
       " 'TRANSFORMER_ENGINE_VERSION': '2.3',\n",
       " 'PYTORCH_BUILD_VERSION': '2.8.0a0+5228986',\n",
       " '_CUDA_COMPAT_PATH': '/usr/local/cuda/compat',\n",
       " 'CUDA_HOME': '/usr/local/cuda',\n",
       " 'CUDA_MODULE_LOADING': 'LAZY',\n",
       " 'NVIDIA_REQUIRE_JETPACK_HOST_MOUNTS': '',\n",
       " 'PATH': '/usr/local/lib/python3.12/dist-packages/torch_tensorrt/bin:/usr/local/nvidia/bin:/usr/local/cuda/bin:/usr/local/mpi/bin:/usr/local/sbin:/usr/local/bin:/usr/sbin:/usr/bin:/sbin:/bin:/usr/local/ucx/bin:/opt/amazon/efa/bin:/opt/tensorrt/bin:/home/wfedorko/.local/bin:/home/wfedorko/bin:/usr/local/go/bin',\n",
       " 'DBUS_SESSION_BUS_ADDRESS': 'unix:path=/run/user/1001/bus',\n",
       " 'MOFED_VERSION': '5.4-rdmacore50.0',\n",
       " 'SSH_TTY': '/dev/pts/15',\n",
       " 'NVIDIA_PYTORCH_VERSION': '25.05',\n",
       " 'TRTOSS_VERSION': '',\n",
       " 'CAL_VERSION': '0.4.4.50',\n",
       " 'DEBIAN_FRONTEND': 'noninteractive',\n",
       " 'TORCH_ALLOW_TF32_CUBLAS_OVERRIDE': '1',\n",
       " 'OLDPWD': '/home/wfedorko',\n",
       " '_': '/usr/bin/stdbuf',\n",
       " '_STDBUF_O': 'L',\n",
       " 'LD_PRELOAD': '/usr/libexec/coreutils/libstdbuf.so',\n",
       " 'JPY_SESSION_NAME': '/home/wfedorko/Intro-notebooks/Jupyter tips and tricks.ipynb',\n",
       " 'JPY_PARENT_PID': '721291',\n",
       " 'PYDEVD_USE_FRAME_EVAL': 'NO',\n",
       " 'CLICOLOR': '1',\n",
       " 'FORCE_COLOR': '1',\n",
       " 'CLICOLOR_FORCE': '1',\n",
       " 'PAGER': 'cat',\n",
       " 'GIT_PAGER': 'cat'}"
      ]
     },
     "execution_count": 10,
     "metadata": {},
     "output_type": "execute_result"
    }
   ],
   "source": [
    "%env"
   ]
  },
  {
   "cell_type": "markdown",
   "metadata": {
    "id": "dbLcZ7pHJK2n"
   },
   "source": [
    "This will set a new variable:"
   ]
  },
  {
   "cell_type": "code",
   "execution_count": 11,
   "metadata": {
    "colab": {
     "base_uri": "https://localhost:8080/"
    },
    "id": "SY00f9FBJaVj",
    "outputId": "b5e3c1e1-1488-4187-83c1-3bc39841e161"
   },
   "outputs": [
    {
     "name": "stdout",
     "output_type": "stream",
     "text": [
      "env: THE_ANSWER=42\n"
     ]
    }
   ],
   "source": [
    "%env THE_ANSWER=42"
   ]
  },
  {
   "cell_type": "markdown",
   "metadata": {
    "id": "GAXp98fNgUjh"
   },
   "source": [
    "Now show the value of a this specific variable"
   ]
  },
  {
   "cell_type": "code",
   "execution_count": 12,
   "metadata": {
    "colab": {
     "base_uri": "https://localhost:8080/",
     "height": 35
    },
    "id": "7K5JRLsaJjTL",
    "outputId": "f58d7147-e1b7-4183-e3f4-a5f4da1d43a7"
   },
   "outputs": [
    {
     "data": {
      "text/plain": [
       "'42'"
      ]
     },
     "execution_count": 12,
     "metadata": {},
     "output_type": "execute_result"
    }
   ],
   "source": [
    "%env THE_ANSWER"
   ]
  },
  {
   "cell_type": "markdown",
   "metadata": {
    "id": "FBiFDAbuMojE"
   },
   "source": [
    "You can use `%%bash` magic to write and run a bash script. The double percent `%%` indicates that this is a cell magic - which takes the whole cell as input. This is in contrast to the single `%` magic commands we've seen above - these take the rest of the line as input.  Note that `%%bash` starts a new shell, so if you set environment variables, they will not be visible after the cell execution is done. For instance after executing the script below the environment variable `ASH` will not be visible."
   ]
  },
  {
   "cell_type": "code",
   "execution_count": 13,
   "metadata": {
    "colab": {
     "base_uri": "https://localhost:8080/"
    },
    "id": "uls1lueRh7S5",
    "outputId": "c41a2891-ea75-4e42-e94a-3eb6d4cfbb2b"
   },
   "outputs": [
    {
     "name": "stdout",
     "output_type": "stream",
     "text": [
      "1\n",
      "2\n",
      "3\n",
      "4\n",
      "5\n",
      "6\n",
      "7\n",
      "8\n",
      "9\n",
      "10\n"
     ]
    }
   ],
   "source": [
    "%%bash\n",
    "for i in {1..10}\n",
    "do\n",
    "   echo $i\n",
    "done\n",
    "export ASH='120-A/2'"
   ]
  },
  {
   "cell_type": "code",
   "execution_count": 14,
   "metadata": {
    "colab": {
     "base_uri": "https://localhost:8080/"
    },
    "id": "DlJOjluklNfI",
    "outputId": "7f168902-f77f-49cc-d35b-b1b5cbcea4c0"
   },
   "outputs": [
    {
     "name": "stderr",
     "output_type": "stream",
     "text": [
      "UsageError: Environment does not have key: ASH\n"
     ]
    }
   ],
   "source": [
    "%env ASH"
   ]
  },
  {
   "cell_type": "markdown",
   "metadata": {
    "id": "9rs8LdWtlcp7"
   },
   "source": [
    "While not strictly a magic command prefixing with `!` allows you to run bash commands from within jupyter notebook and even store their output in python variables and vice-versa - we can pass python variables to the bash command"
   ]
  },
  {
   "cell_type": "code",
   "execution_count": 15,
   "metadata": {
    "colab": {
     "base_uri": "https://localhost:8080/"
    },
    "id": "25TW0ui2rxwV",
    "outputId": "cf9ad82d-08be-42fe-e55d-64611cdc2e45"
   },
   "outputs": [
    {
     "name": "stdout",
     "output_type": "stream",
     "text": [
      "Earl Grey, Hot\n"
     ]
    }
   ],
   "source": [
    "tea='Earl Grey, Hot'\n",
    "!echo $tea\n",
    "coffee=!head -n 1 /etc/os-release"
   ]
  },
  {
   "cell_type": "code",
   "execution_count": 16,
   "metadata": {
    "colab": {
     "base_uri": "https://localhost:8080/"
    },
    "id": "0h__Ht-btEra",
    "outputId": "918b6153-8f9f-493c-d38a-e86c13057b74"
   },
   "outputs": [
    {
     "name": "stdout",
     "output_type": "stream",
     "text": [
      "['PRETTY_NAME=\"Ubuntu 24.04.2 LTS\"']\n"
     ]
    }
   ],
   "source": [
    "print(coffee)"
   ]
  },
  {
   "cell_type": "markdown",
   "metadata": {
    "id": "xdjdCM2btl7f"
   },
   "source": [
    "Important caveat again is that the `!` will spawn a new shell. This means for instance that `!cd ...` will have no effect:"
   ]
  },
  {
   "cell_type": "code",
   "execution_count": 17,
   "metadata": {
    "colab": {
     "base_uri": "https://localhost:8080/"
    },
    "id": "wDoq212X2YS2",
    "outputId": "aebf61f5-021e-4438-bd27-827a67b064b4"
   },
   "outputs": [
    {
     "name": "stdout",
     "output_type": "stream",
     "text": [
      "/home/wfedorko/Intro-notebooks\n"
     ]
    }
   ],
   "source": [
    "!mkdir test_dir\n",
    "!cd test_dir\n",
    "!pwd"
   ]
  },
  {
   "cell_type": "markdown",
   "metadata": {
    "id": "i_MS7cUJ2ej5"
   },
   "source": [
    "To change the working directory we would use another magic: `%cd`"
   ]
  },
  {
   "cell_type": "code",
   "execution_count": 18,
   "metadata": {
    "colab": {
     "base_uri": "https://localhost:8080/"
    },
    "id": "fD4G9vbt2tSg",
    "outputId": "80b0dab9-1863-4b28-b0e0-ea055bd389b6"
   },
   "outputs": [
    {
     "name": "stdout",
     "output_type": "stream",
     "text": [
      "/home/wfedorko/Intro-notebooks/test_dir\n"
     ]
    }
   ],
   "source": [
    "%cd test_dir"
   ]
  },
  {
   "cell_type": "markdown",
   "metadata": {
    "id": "lEE85oQjB7oK"
   },
   "source": [
    "Now we'll look at some neat timing commands - they can be used both in cell or line mode.\n",
    "%time will run your code once - and give you the timing statistics while %timeit will run the code by default 10000 times to benchark the performance of a given code snippet"
   ]
  },
  {
   "cell_type": "code",
   "execution_count": 19,
   "metadata": {
    "id": "bj8UkHhKC5j2"
   },
   "outputs": [],
   "source": [
    "import numpy as np"
   ]
  },
  {
   "cell_type": "code",
   "execution_count": 20,
   "metadata": {
    "colab": {
     "base_uri": "https://localhost:8080/"
    },
    "id": "bU1vEtf-Ca-F",
    "outputId": "ec5cecf2-8f0c-4400-b5b5-4e0410764148"
   },
   "outputs": [
    {
     "name": "stdout",
     "output_type": "stream",
     "text": [
      "22.3 μs ± 2.23 μs per loop (mean ± std. dev. of 7 runs, 10,000 loops each)\n"
     ]
    }
   ],
   "source": [
    "%%timeit\n",
    "x=np.linspace(0,2.0*np.pi,1000)\n",
    "y=np.sin(x)"
   ]
  },
  {
   "cell_type": "code",
   "execution_count": 21,
   "metadata": {
    "colab": {
     "base_uri": "https://localhost:8080/"
    },
    "id": "ny0DwpdXCp9D",
    "outputId": "f80bf456-45fe-4728-e44e-8fe2ce90cbc0"
   },
   "outputs": [
    {
     "name": "stdout",
     "output_type": "stream",
     "text": [
      "21.3 μs ± 52.9 ns per loop (mean ± std. dev. of 7 runs, 10,000 loops each)\n"
     ]
    }
   ],
   "source": [
    "%timeit y=np.sin(np.linspace(0,2.0*np.pi,1000))"
   ]
  },
  {
   "cell_type": "code",
   "execution_count": 22,
   "metadata": {
    "colab": {
     "base_uri": "https://localhost:8080/"
    },
    "id": "nSi2UZhRCzh9",
    "outputId": "ab11e313-6571-4647-d222-6caf93e06094"
   },
   "outputs": [
    {
     "name": "stdout",
     "output_type": "stream",
     "text": [
      "CPU times: user 234 μs, sys: 0 ns, total: 234 μs\n",
      "Wall time: 445 μs\n"
     ]
    }
   ],
   "source": [
    "%%time\n",
    "x=np.linspace(0,2.0*np.pi,1000)\n",
    "y=np.sin(x)"
   ]
  },
  {
   "cell_type": "markdown",
   "metadata": {
    "id": "dtQYkvGv2x7z"
   },
   "source": [
    "Finally, one of the most important magic commands we need to use whenever we plot anything is `%matplotlib inline`. This is usually invoked somewhere near the beginning of the notebook and allows drawing of your plots in the notebook (and storing them as well!)\n"
   ]
  },
  {
   "cell_type": "code",
   "execution_count": 23,
   "metadata": {
    "id": "er6i-fgH43OJ"
   },
   "outputs": [],
   "source": [
    "%matplotlib inline"
   ]
  },
  {
   "cell_type": "markdown",
   "metadata": {
    "id": "xfxdcUXL6vaK"
   },
   "source": [
    "After that we plot normally - but you need to keep all commands involved in creating a figure to a single cell and call pyplot `show()` at the end"
   ]
  },
  {
   "cell_type": "code",
   "execution_count": 24,
   "metadata": {
    "id": "jEtn8wZE6dfm"
   },
   "outputs": [],
   "source": [
    "import matplotlib.pyplot as plt"
   ]
  },
  {
   "cell_type": "code",
   "execution_count": 25,
   "metadata": {
    "colab": {
     "base_uri": "https://localhost:8080/",
     "height": 388
    },
    "id": "bXjnrBTK6tEE",
    "outputId": "7350b9e8-64dd-4ba4-e4a0-34c3b6c0d772"
   },
   "outputs": [
    {
     "data": {
      "image/png": "[encoded data removed]",
      "text/plain": [
       "<Figure size 600x400 with 1 Axes>"
      ]
     },
     "metadata": {},
     "output_type": "display_data"
    }
   ],
   "source": [
    "import numpy as np\n",
    "fig, ax = plt.subplots(figsize=(6,4),facecolor='w')\n",
    "x=np.linspace(0,2.0*np.pi,1000)\n",
    "y=np.sin(x)\n",
    "ax.plot(x,y)\n",
    "ax.set_xlabel('x')\n",
    "ax.set_ylabel('y')\n",
    "plt.show()"
   ]
  },
  {
   "cell_type": "markdown",
   "metadata": {
    "id": "gKYYlbOoGHpC"
   },
   "source": [
    "There are multiple other magic commands. You can get a full list by typing"
   ]
  },
  {
   "cell_type": "code",
   "execution_count": 26,
   "metadata": {
    "colab": {
     "base_uri": "https://localhost:8080/",
     "height": 1000
    },
    "id": "RmzAjBnVGPfj",
    "outputId": "b1784306-fecd-45e1-df70-6e9e62e7f5ef"
   },
   "outputs": [
    {
     "data": {
      "application/json": {
       "cell": {
        "!": "OSMagics",
        "HTML": "Other",
        "SVG": "Other",
        "bash": "Other",
        "capture": "ExecutionMagics",
        "code_wrap": "ExecutionMagics",
        "debug": "ExecutionMagics",
        "file": "Other",
        "html": "DisplayMagics",
        "javascript": "DisplayMagics",
        "js": "DisplayMagics",
        "latex": "DisplayMagics",
        "markdown": "DisplayMagics",
        "perl": "Other",
        "prun": "ExecutionMagics",
        "pypy": "Other",
        "python": "Other",
        "python2": "Other",
        "python3": "Other",
        "ruby": "Other",
        "script": "ScriptMagics",
        "sh": "Other",
        "svg": "DisplayMagics",
        "sx": "OSMagics",
        "system": "OSMagics",
        "time": "ExecutionMagics",
        "timeit": "ExecutionMagics",
        "writefile": "OSMagics"
       },
       "line": {
        "alias": "OSMagics",
        "alias_magic": "BasicMagics",
        "autoawait": "AsyncMagics",
        "autocall": "AutoMagics",
        "automagic": "AutoMagics",
        "autosave": "KernelMagics",
        "bookmark": "OSMagics",
        "cat": "Other",
        "cd": "OSMagics",
        "clear": "KernelMagics",
        "code_wrap": "ExecutionMagics",
        "colors": "BasicMagics",
        "conda": "PackagingMagics",
        "config": "ConfigMagics",
        "connect_info": "KernelMagics",
        "cp": "Other",
        "debug": "ExecutionMagics",
        "dhist": "OSMagics",
        "dirs": "OSMagics",
        "doctest_mode": "BasicMagics",
        "ed": "Other",
        "edit": "KernelMagics",
        "env": "OSMagics",
        "gui": "BasicMagics",
        "hist": "Other",
        "history": "HistoryMagics",
        "killbgscripts": "ScriptMagics",
        "ldir": "Other",
        "less": "KernelMagics",
        "lf": "Other",
        "lk": "Other",
        "ll": "Other",
        "load": "CodeMagics",
        "load_ext": "ExtensionMagics",
        "loadpy": "CodeMagics",
        "logoff": "LoggingMagics",
        "logon": "LoggingMagics",
        "logstart": "LoggingMagics",
        "logstate": "LoggingMagics",
        "logstop": "LoggingMagics",
        "ls": "Other",
        "lsmagic": "BasicMagics",
        "lx": "Other",
        "macro": "ExecutionMagics",
        "magic": "BasicMagics",
        "mamba": "PackagingMagics",
        "man": "KernelMagics",
        "matplotlib": "PylabMagics",
        "micromamba": "PackagingMagics",
        "mkdir": "Other",
        "more": "KernelMagics",
        "mv": "Other",
        "notebook": "BasicMagics",
        "page": "BasicMagics",
        "pastebin": "CodeMagics",
        "pdb": "ExecutionMagics",
        "pdef": "NamespaceMagics",
        "pdoc": "NamespaceMagics",
        "pfile": "NamespaceMagics",
        "pinfo": "NamespaceMagics",
        "pinfo2": "NamespaceMagics",
        "pip": "PackagingMagics",
        "popd": "OSMagics",
        "pprint": "BasicMagics",
        "precision": "BasicMagics",
        "prun": "ExecutionMagics",
        "psearch": "NamespaceMagics",
        "psource": "NamespaceMagics",
        "pushd": "OSMagics",
        "pwd": "OSMagics",
        "pycat": "OSMagics",
        "pylab": "PylabMagics",
        "qtconsole": "KernelMagics",
        "quickref": "BasicMagics",
        "recall": "HistoryMagics",
        "rehashx": "OSMagics",
        "reload_ext": "ExtensionMagics",
        "rep": "Other",
        "rerun": "HistoryMagics",
        "reset": "NamespaceMagics",
        "reset_selective": "NamespaceMagics",
        "rm": "Other",
        "rmdir": "Other",
        "run": "ExecutionMagics",
        "save": "CodeMagics",
        "sc": "OSMagics",
        "set_env": "OSMagics",
        "store": "StoreMagics",
        "sx": "OSMagics",
        "system": "OSMagics",
        "tb": "ExecutionMagics",
        "time": "ExecutionMagics",
        "timeit": "ExecutionMagics",
        "unalias": "OSMagics",
        "unload_ext": "ExtensionMagics",
        "uv": "PackagingMagics",
        "who": "NamespaceMagics",
        "who_ls": "NamespaceMagics",
        "whos": "NamespaceMagics",
        "xdel": "NamespaceMagics",
        "xmode": "BasicMagics"
       }
      },
      "text/plain": [
       "Available line magics:\n",
       "%alias  %alias_magic  %autoawait  %autocall  %automagic  %autosave  %bookmark  %cat  %cd  %clear  %code_wrap  %colors  %conda  %config  %connect_info  %cp  %debug  %dhist  %dirs  %doctest_mode  %ed  %edit  %env  %gui  %hist  %history  %killbgscripts  %ldir  %less  %lf  %lk  %ll  %load  %load_ext  %loadpy  %logoff  %logon  %logstart  %logstate  %logstop  %ls  %lsmagic  %lx  %macro  %magic  %mamba  %man  %matplotlib  %micromamba  %mkdir  %more  %mv  %notebook  %page  %pastebin  %pdb  %pdef  %pdoc  %pfile  %pinfo  %pinfo2  %pip  %popd  %pprint  %precision  %prun  %psearch  %psource  %pushd  %pwd  %pycat  %pylab  %qtconsole  %quickref  %recall  %rehashx  %reload_ext  %rep  %rerun  %reset  %reset_selective  %rm  %rmdir  %run  %save  %sc  %set_env  %store  %sx  %system  %tb  %time  %timeit  %unalias  %unload_ext  %uv  %who  %who_ls  %whos  %xdel  %xmode\n",
       "\n",
       "Available cell magics:\n",
       "%%!  %%HTML  %%SVG  %%bash  %%capture  %%code_wrap  %%debug  %%file  %%html  %%javascript  %%js  %%latex  %%markdown  %%perl  %%prun  %%pypy  %%python  %%python2  %%python3  %%ruby  %%script  %%sh  %%svg  %%sx  %%system  %%time  %%timeit  %%writefile\n",
       "\n",
       "Automagic is ON, % prefix IS NOT needed for line magics."
      ]
     },
     "execution_count": 26,
     "metadata": {},
     "output_type": "execute_result"
    }
   ],
   "source": [
    "%lsmagic"
   ]
  },
  {
   "cell_type": "code",
   "execution_count": null,
   "metadata": {
    "id": "0AeWR7JyG9KR"
   },
   "outputs": [],
   "source": []
  }
 ],
 "metadata": {
  "colab": {
   "provenance": []
  },
  "kernelspec": {
   "display_name": "Python 3 (ipykernel)",
   "language": "python",
   "name": "python3"
  },
  "language_info": {
   "codemirror_mode": {
    "name": "ipython",
    "version": 3
   },
   "file_extension": ".py",
   "mimetype": "text/x-python",
   "name": "python",
   "nbconvert_exporter": "python",
   "pygments_lexer": "ipython3",
   "version": "3.12.3"
  }
 },
 "nbformat": 4,
 "nbformat_minor": 4
}
